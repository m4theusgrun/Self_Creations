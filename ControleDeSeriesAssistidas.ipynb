{
 "cells": [
  {
   "cell_type": "code",
   "execution_count": 8,
   "metadata": {},
   "outputs": [
    {
     "name": "stdout",
     "output_type": "stream",
     "text": [
      "\n",
      "Gerenciador de Séries\n",
      "1. Adicionar série\n",
      "2. Exibir séries\n",
      "3. Sair\n",
      "\n",
      "Séris que você já assistiu:\n",
      "- Outer Banks\n",
      "- The Mandalorian\n",
      "- Prision Break\n",
      "- Stranger Things\n",
      "- The Vikings\n",
      "- The Penguin\n",
      "- Gotham\n",
      "- The Walking Dead\n",
      "- The Last of Us\n",
      "\n",
      "Gerenciador de Séries\n",
      "1. Adicionar série\n",
      "2. Exibir séries\n",
      "3. Sair\n",
      "Saindo do gerenciador de series.\n"
     ]
    }
   ],
   "source": [
    "import os\n",
    "\n",
    "def adicionar_serie(serie):\n",
    "    with open('series.txt', 'a') as arquivo:\n",
    "        arquivo.write(serie + '\\n')\n",
    "\n",
    "def exibir_series():\n",
    "    if os.path.exists('series.txt'):\n",
    "        with open('series.txt', 'r') as arquivo:\n",
    "            series = arquivo.readlines()\n",
    "            if series:\n",
    "                print(\"\\nSéris que você já assistiu:\")\n",
    "                for serie in series:\n",
    "                    print(f\"- {serie.strip()}\")\n",
    "            else:\n",
    "                print(\"Nenhuma série cadastrada.\")\n",
    "    else:\n",
    "        print(\"Nenhuma série cadastrada.\")\n",
    "\n",
    "def gerenciador_series():\n",
    "    while True:\n",
    "        print(\"\\nGerenciador de Séries\")\n",
    "        print(\"1. Adicionar série\")\n",
    "        print(\"2. Exibir séries\")\n",
    "        print(\"3. Sair\")\n",
    "\n",
    "        opcao = input(\"Escolha uma opção (1, 2 ou 3): \")\n",
    "\n",
    "        if opcao == '1':\n",
    "            serie = input(\"Digite o nome da série: \")\n",
    "            adicionar_serie(serie)\n",
    "            print(f\"Série '{serie}' adicionada com sucesso!\")\n",
    "\n",
    "        elif opcao == '2':\n",
    "            exibir_series()\n",
    "\n",
    "        elif opcao == '3':\n",
    "            print(\"Saindo do gerenciador de series.\")\n",
    "            break\n",
    "\n",
    "        else:\n",
    "            print(\"Opção inválida. Tente novamente.\")\n",
    "\n",
    "# Executa o gerenciador de series\n",
    "gerenciador_series()"
   ]
  }
 ],
 "metadata": {
  "kernelspec": {
   "display_name": "Python 3",
   "language": "python",
   "name": "python3"
  },
  "language_info": {
   "codemirror_mode": {
    "name": "ipython",
    "version": 3
   },
   "file_extension": ".py",
   "mimetype": "text/x-python",
   "name": "python",
   "nbconvert_exporter": "python",
   "pygments_lexer": "ipython3",
   "version": "3.12.7"
  }
 },
 "nbformat": 4,
 "nbformat_minor": 2
}
